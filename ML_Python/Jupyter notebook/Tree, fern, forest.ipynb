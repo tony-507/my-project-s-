{
 "cells": [
  {
   "cell_type": "markdown",
   "id": "accredited-football",
   "metadata": {},
   "source": [
    "# Testing among decision tree, random fern and random forest"
   ]
  },
  {
   "cell_type": "code",
   "execution_count": 6,
   "id": "parallel-organization",
   "metadata": {},
   "outputs": [],
   "source": [
    "import numpy as np #Generate random data\n",
    "import matplotlib.pyplot as plt #Visualisation\n",
    "import sklearn #Tree algorithms\n",
    "import pandas as pd"
   ]
  },
  {
   "cell_type": "code",
   "execution_count": 31,
   "id": "exact-excuse",
   "metadata": {},
   "outputs": [],
   "source": [
    "# Generate 500 data with dimension 10 here, output is determined by sign of sum\n",
    "mean = [20,10,0,-10,-20]\n",
    "sigma = [4,9]\n",
    "Data = np.zeros((500,11))\n",
    "\n",
    "for i in range(5):\n",
    "    for j in range(2):\n",
    "        Data[:,2*i+j] = np.random.normal(mean[i],sigma[j],500)\n",
    "\n",
    "for i in range(500):\n",
    "    if np.sum(Data[i,0:10]) > 0:\n",
    "        Data[i,10] = True\n",
    "    else:\n",
    "        Data[i,10] = False"
   ]
  },
  {
   "cell_type": "code",
   "execution_count": 32,
   "id": "directed-immigration",
   "metadata": {},
   "outputs": [
    {
     "data": {
      "text/html": [
       "<div>\n",
       "<style scoped>\n",
       "    .dataframe tbody tr th:only-of-type {\n",
       "        vertical-align: middle;\n",
       "    }\n",
       "\n",
       "    .dataframe tbody tr th {\n",
       "        vertical-align: top;\n",
       "    }\n",
       "\n",
       "    .dataframe thead th {\n",
       "        text-align: right;\n",
       "    }\n",
       "</style>\n",
       "<table border=\"1\" class=\"dataframe\">\n",
       "  <thead>\n",
       "    <tr style=\"text-align: right;\">\n",
       "      <th></th>\n",
       "      <th>feature 1</th>\n",
       "      <th>feature 2</th>\n",
       "      <th>feature 3</th>\n",
       "      <th>feature 4</th>\n",
       "      <th>feature 5</th>\n",
       "      <th>feature 6</th>\n",
       "      <th>feature 7</th>\n",
       "      <th>feature 8</th>\n",
       "      <th>feature 9</th>\n",
       "      <th>feature 10</th>\n",
       "      <th>output</th>\n",
       "    </tr>\n",
       "  </thead>\n",
       "  <tbody>\n",
       "    <tr>\n",
       "      <th>1</th>\n",
       "      <td>16.042697</td>\n",
       "      <td>29.736279</td>\n",
       "      <td>3.195541</td>\n",
       "      <td>21.775868</td>\n",
       "      <td>-5.122217</td>\n",
       "      <td>15.388098</td>\n",
       "      <td>-7.899598</td>\n",
       "      <td>-0.005542</td>\n",
       "      <td>-17.268739</td>\n",
       "      <td>-20.928140</td>\n",
       "      <td>1.0</td>\n",
       "    </tr>\n",
       "    <tr>\n",
       "      <th>2</th>\n",
       "      <td>21.077337</td>\n",
       "      <td>24.935941</td>\n",
       "      <td>10.119073</td>\n",
       "      <td>17.860102</td>\n",
       "      <td>0.004140</td>\n",
       "      <td>-2.664142</td>\n",
       "      <td>-5.647917</td>\n",
       "      <td>1.718855</td>\n",
       "      <td>-23.753028</td>\n",
       "      <td>-21.513533</td>\n",
       "      <td>1.0</td>\n",
       "    </tr>\n",
       "    <tr>\n",
       "      <th>3</th>\n",
       "      <td>25.787733</td>\n",
       "      <td>24.972978</td>\n",
       "      <td>6.716913</td>\n",
       "      <td>7.770915</td>\n",
       "      <td>-3.240248</td>\n",
       "      <td>-20.149673</td>\n",
       "      <td>-19.293165</td>\n",
       "      <td>-15.993421</td>\n",
       "      <td>-16.425945</td>\n",
       "      <td>-12.266088</td>\n",
       "      <td>0.0</td>\n",
       "    </tr>\n",
       "    <tr>\n",
       "      <th>4</th>\n",
       "      <td>19.015746</td>\n",
       "      <td>15.276480</td>\n",
       "      <td>5.796987</td>\n",
       "      <td>-4.011528</td>\n",
       "      <td>-0.901452</td>\n",
       "      <td>8.089423</td>\n",
       "      <td>-13.298133</td>\n",
       "      <td>-19.489375</td>\n",
       "      <td>-14.763609</td>\n",
       "      <td>-19.088997</td>\n",
       "      <td>0.0</td>\n",
       "    </tr>\n",
       "    <tr>\n",
       "      <th>5</th>\n",
       "      <td>22.245742</td>\n",
       "      <td>27.556949</td>\n",
       "      <td>14.153455</td>\n",
       "      <td>13.789078</td>\n",
       "      <td>0.439600</td>\n",
       "      <td>-1.793084</td>\n",
       "      <td>-11.719482</td>\n",
       "      <td>-11.407960</td>\n",
       "      <td>-18.048891</td>\n",
       "      <td>-1.939298</td>\n",
       "      <td>1.0</td>\n",
       "    </tr>\n",
       "  </tbody>\n",
       "</table>\n",
       "</div>"
      ],
      "text/plain": [
       "   feature 1  feature 2  feature 3  feature 4  feature 5  feature 6  \\\n",
       "1  16.042697  29.736279   3.195541  21.775868  -5.122217  15.388098   \n",
       "2  21.077337  24.935941  10.119073  17.860102   0.004140  -2.664142   \n",
       "3  25.787733  24.972978   6.716913   7.770915  -3.240248 -20.149673   \n",
       "4  19.015746  15.276480   5.796987  -4.011528  -0.901452   8.089423   \n",
       "5  22.245742  27.556949  14.153455  13.789078   0.439600  -1.793084   \n",
       "\n",
       "   feature 7  feature 8  feature 9  feature 10  output  \n",
       "1  -7.899598  -0.005542 -17.268739  -20.928140     1.0  \n",
       "2  -5.647917   1.718855 -23.753028  -21.513533     1.0  \n",
       "3 -19.293165 -15.993421 -16.425945  -12.266088     0.0  \n",
       "4 -13.298133 -19.489375 -14.763609  -19.088997     0.0  \n",
       "5 -11.719482 -11.407960 -18.048891   -1.939298     1.0  "
      ]
     },
     "execution_count": 32,
     "metadata": {},
     "output_type": "execute_result"
    }
   ],
   "source": [
    "# Collect the data as a dataframe\n",
    "col = []\n",
    "for i in range(10):\n",
    "    col.append('feature ' + str(i+1))\n",
    "col.append('output')\n",
    "df = pd.DataFrame(Data,columns=col)\n",
    "df.index += 1\n",
    "\n",
    "df.head()"
   ]
  },
  {
   "cell_type": "code",
   "execution_count": 39,
   "id": "peaceful-kuwait",
   "metadata": {},
   "outputs": [],
   "source": [
    "# Train, test split\n",
    "from sklearn.model_selection import train_test_split\n",
    "\n",
    "X = Data[:,0:10]\n",
    "y = Data[:,10]\n",
    "\n",
    "X_train, X_test, y_train, y_test = train_test_split(X,y,test_size=0.3,random_state=42)\n",
    "\n",
    "n_train = len(X_train)\n",
    "n_test = len(X_test)"
   ]
  },
  {
   "cell_type": "code",
   "execution_count": 139,
   "id": "boring-strength",
   "metadata": {},
   "outputs": [],
   "source": [
    "# Evaluation function of tree/forest in sklearn, return [TP,TN,FP,FN]\n",
    "def evaluate(model,X_test,y_test,s):\n",
    "    n_test = len(X_test)\n",
    "    arr = [0,0,0,0]\n",
    "    \n",
    "    if s=='tree':\n",
    "        pred = model.predict_proba(X_test)\n",
    "        for i in range(n_test):\n",
    "            # predict class 0\n",
    "            if pred[i,0] == 1:\n",
    "                # TN\n",
    "                if y_test[i] == 0:\n",
    "                    arr[1] += 1\n",
    "                # FN\n",
    "                else:\n",
    "                    arr[3] += 1\n",
    "            # predict class 1\n",
    "            else:\n",
    "                # TP\n",
    "                if y_test[i] == 1:\n",
    "                    arr[0] += 1\n",
    "                # FP\n",
    "                else:\n",
    "                    arr[2] += 1\n",
    "    elif s=='forest':\n",
    "        pred = model.predict(X_test)\n",
    "        for i in range(n_test):\n",
    "            # predict class 0\n",
    "            if pred[i] == 0:\n",
    "                # TN\n",
    "                if y_test[i] == 0:\n",
    "                    arr[1] += 1\n",
    "                # FN\n",
    "                else:\n",
    "                    arr[3] += 1\n",
    "            # predict class 1\n",
    "            else:\n",
    "                # TP\n",
    "                if y_test[i] == 1:\n",
    "                    arr[0] += 1\n",
    "                # FP\n",
    "                else:\n",
    "                    arr[2] += 1\n",
    "    return arr"
   ]
  },
  {
   "cell_type": "code",
   "execution_count": 140,
   "id": "aging-career",
   "metadata": {},
   "outputs": [],
   "source": [
    "def metric(v):\n",
    "    acc = (v[0]+v[1])/(sum(v))\n",
    "    pre = v[0]/(v[0]+v[2])\n",
    "    rec = v[0]/(v[0]+v[3])\n",
    "    F = 2/(1/pre + 1/rec)\n",
    "\n",
    "    print('Accuracy: %f' % acc)\n",
    "    print('Precision: %f' % pre)\n",
    "    print('Recall: %f' % rec)\n",
    "    print('F score: %f' % F)"
   ]
  },
  {
   "cell_type": "markdown",
   "id": "crucial-identifier",
   "metadata": {},
   "source": [
    "## Tree"
   ]
  },
  {
   "cell_type": "code",
   "execution_count": 141,
   "id": "afraid-white",
   "metadata": {},
   "outputs": [
    {
     "name": "stdout",
     "output_type": "stream",
     "text": [
      "Accuracy: 0.846667\n",
      "Precision: 0.864198\n",
      "Recall: 0.853659\n",
      "F score: 0.858896\n"
     ]
    }
   ],
   "source": [
    "# Basic tree\n",
    "from sklearn import tree\n",
    "\n",
    "bin_tree = tree.DecisionTreeClassifier()\n",
    "bin_tree.fit(X_train,y_train)\n",
    "\n",
    "v = evaluate(bin_tree,X_test,y_test,'tree')\n",
    "metric(v)"
   ]
  },
  {
   "cell_type": "markdown",
   "id": "natural-controversy",
   "metadata": {},
   "source": [
    "## Low level random forest"
   ]
  },
  {
   "cell_type": "code",
   "execution_count": 142,
   "id": "natural-louisville",
   "metadata": {},
   "outputs": [],
   "source": [
    "# Low level implementation of random forest:\n",
    "# Randomly select 3 features, no bootstraping\n",
    "# Majority vote for output\n",
    "\n",
    "forest = []\n",
    "index = []\n",
    "for i in range(99):\n",
    "    feature = np.random.randint(0,10,size=3)\n",
    "    sample = np.random.randint(0,350,size=100)\n",
    "    X_trim = X_train[:,feature]\n",
    "    index.append(feature)\n",
    "    small_tree = tree.DecisionTreeClassifier()\n",
    "    small_tree.fit(X_trim,y_train)\n",
    "    \n",
    "    forest.append(small_tree)"
   ]
  },
  {
   "cell_type": "code",
   "execution_count": 143,
   "id": "actual-contribution",
   "metadata": {},
   "outputs": [],
   "source": [
    "# Classifier\n",
    "def forest_classifier(forest,index,x):\n",
    "    n = len(forest)\n",
    "    vote_0 = 0\n",
    "    vote_1 = 0\n",
    "    for i in range(n):\n",
    "        small_tree = forest[i]\n",
    "        x_new = x[index[i]].reshape((1,3))\n",
    "        pred = small_tree.predict_proba(x_new)\n",
    "        # Predict 0\n",
    "        if pred[0,0] == 1:\n",
    "            vote_0 += 1\n",
    "        else:\n",
    "            vote_1 += 1\n",
    "    \n",
    "    if vote_1 > vote_0:\n",
    "        return 1\n",
    "    else:\n",
    "        return 0"
   ]
  },
  {
   "cell_type": "code",
   "execution_count": 144,
   "id": "veterinary-salvation",
   "metadata": {},
   "outputs": [],
   "source": [
    "# Evaluation of random forest, return [TP,TN,FP,FN]\n",
    "def eval_forest(forest,index,X_test,y_test):\n",
    "    n_test = len(X_test)\n",
    "    arr = [0,0,0,0]\n",
    "    for i in range(n_test):\n",
    "        pred = forest_classifier(forest,index,X_test[i,:])\n",
    "        # Predict 0\n",
    "        if pred == 0:\n",
    "            if y_test[i] == 0:\n",
    "                arr[1] += 1\n",
    "            else:\n",
    "                arr[3] += 1\n",
    "        # Predict 1\n",
    "        else:\n",
    "            if y_test[i] == 1:\n",
    "                arr[0] += 1\n",
    "            else:\n",
    "                arr[2] += 1\n",
    "    return arr"
   ]
  },
  {
   "cell_type": "code",
   "execution_count": 145,
   "id": "handled-vacuum",
   "metadata": {},
   "outputs": [
    {
     "name": "stdout",
     "output_type": "stream",
     "text": [
      "Accuracy: 0.853333\n",
      "Precision: 0.884615\n",
      "Recall: 0.841463\n",
      "F score: 0.862500\n"
     ]
    }
   ],
   "source": [
    "v = eval_forest(forest, index, X_test, y_test)\n",
    "metric(v)"
   ]
  },
  {
   "cell_type": "markdown",
   "id": "plain-extent",
   "metadata": {},
   "source": [
    "## High level random forest"
   ]
  },
  {
   "cell_type": "code",
   "execution_count": 150,
   "id": "given-hormone",
   "metadata": {},
   "outputs": [
    {
     "name": "stdout",
     "output_type": "stream",
     "text": [
      "Accuracy: 0.860000\n",
      "Precision: 0.867470\n",
      "Recall: 0.878049\n",
      "F score: 0.872727\n"
     ]
    }
   ],
   "source": [
    "# High level random forest\n",
    "from sklearn.ensemble import RandomForestClassifier\n",
    "\n",
    "forest_1 = RandomForestClassifier(max_depth=2,random_state=0)\n",
    "forest_1.fit(X_train,y_train)\n",
    "\n",
    "v = evaluate(forest_1,X_test,y_test,'forest')\n",
    "metric(v)"
   ]
  },
  {
   "cell_type": "markdown",
   "id": "moving-communication",
   "metadata": {},
   "source": [
    "## Random ferns"
   ]
  },
  {
   "cell_type": "code",
   "execution_count": 185,
   "id": "engaged-lease",
   "metadata": {},
   "outputs": [],
   "source": [
    "# Low level implementation of 1 random fern\n",
    "# Fern size 5\n",
    "# Randomly choose 5 pairs of features for binary test\n",
    "\n",
    "y_0 = np.where(y_train == 0)\n",
    "y_1 = np.where(y_train == 1)\n",
    "I = np.array([y_0,y_1])"
   ]
  },
  {
   "cell_type": "code",
   "execution_count": 273,
   "id": "traditional-editor",
   "metadata": {},
   "outputs": [],
   "source": [
    "# Train a fern, return a dictionary containing indices for binary tests and the prior distributions\n",
    "# Input: Training set, indices of samples of different classes (stored as a matrix)\n",
    "def train_fern(X_train,I,S):\n",
    "    index = [] # indices for binary test\n",
    "    n_train = len(X_train) # Number of training samples\n",
    "    n_class = I.shape\n",
    "    n_class = n_class[0] # Number of class\n",
    "    dis = np.zeros(shape=(n_class,2**S)) # Distribution of fern\n",
    "    B = np.zeros(shape=(n_train,1)) # Hashing array\n",
    "    \n",
    "    # Build matrix containing results of binary test, and also index array\n",
    "    for i in range(S):\n",
    "        f1 = np.random.randint(0,10)\n",
    "        f2 = np.random.randint(0,10)\n",
    "        while f2 == f1 or [f2,f1] in index or [f1,f2] in index:\n",
    "            f2 = np.random.randint(0,10)\n",
    "        index.append([f1,f2])\n",
    "        for j in range(n_train):\n",
    "            # Binary test here\n",
    "            if X_train[j,f1] > X_train[j,f2]:\n",
    "                B[j] += 2**i\n",
    "            else:\n",
    "                B[j] += 0\n",
    "    \n",
    "    # Build distribution\n",
    "    for i in range(n_class):\n",
    "        class_index = I[i,0]\n",
    "        total = len(class_index)\n",
    "        B_class = B[class_index]\n",
    "        for j in range(2**S):\n",
    "            # Assume uniform when small amount of data\n",
    "            dis[i,j] = (len(np.where(B_class == j)[0])+1)/(total+2**S)\n",
    "            \n",
    "    fern = {'index':index, 'distribution':dis}\n",
    "    return fern"
   ]
  },
  {
   "cell_type": "code",
   "execution_count": 285,
   "id": "overhead-election",
   "metadata": {},
   "outputs": [],
   "source": [
    "# Fern classifier\n",
    "# If one fern, need to change to list [fern] first\n",
    "# Input: ferns (list of ferns), X_test\n",
    "def fern_classifier(ferns,X_test):\n",
    "    n_test = len(X_test)\n",
    "    n_fern = len(ferns)\n",
    "    n_class = ferns[0]['distribution'].shape\n",
    "    n_class = n_class[0]\n",
    "    S = len(ferns[0]['index'])\n",
    "    B = np.zeros(n_test)\n",
    "    pred = np.zeros(n_test)\n",
    "                  \n",
    "    for i in range(n_test):\n",
    "        prod = np.ones(n_class)\n",
    "        for j in range(n_fern):\n",
    "            index = ferns[j]['index']\n",
    "            dis = ferns[j]['distribution']\n",
    "            # Hashing\n",
    "            for k in range(S):\n",
    "                if X_test[i,index[k][0]] > X_test[i,index[k][1]]:\n",
    "                    B[i] += 2**k\n",
    "            \n",
    "            # Semi-naive Bayes\n",
    "            for k in range(n_class):\n",
    "                prod[k] *= dis[k][int(B[i])]\n",
    "        \n",
    "            B[i] = 0\n",
    "        \n",
    "        # Prediction\n",
    "        if prod[1] > prod[0]:\n",
    "            pred[i] = 1\n",
    "        else:\n",
    "            pred[i] = 0\n",
    "    \n",
    "    return pred"
   ]
  },
  {
   "cell_type": "code",
   "execution_count": 286,
   "id": "complete-pound",
   "metadata": {},
   "outputs": [],
   "source": [
    "# Evaluate ferns, return [TP,TN,FP,FN]\n",
    "def eval_ferns (pred,y_test):\n",
    "    n_test = len(y_test)\n",
    "    v = [0,0,0,0]\n",
    "    for i in range(n_test):\n",
    "        if pred[i] == 0:\n",
    "            if y_test[i] == 0:\n",
    "                v[1] += 1\n",
    "            else:\n",
    "                v[3] += 1\n",
    "        else:\n",
    "            if y_test[i] == 0:\n",
    "                v[2] += 1\n",
    "            else:\n",
    "                v[0] += 1\n",
    "    return v"
   ]
  },
  {
   "cell_type": "code",
   "execution_count": 287,
   "id": "controversial-practice",
   "metadata": {},
   "outputs": [
    {
     "name": "stdout",
     "output_type": "stream",
     "text": [
      "Accuracy: 0.593333\n",
      "Precision: 0.723404\n",
      "Recall: 0.414634\n",
      "F score: 0.527132\n",
      "\n",
      "Accuracy: 0.586667\n",
      "Precision: 0.661290\n",
      "Recall: 0.500000\n",
      "F score: 0.569444\n",
      "\n",
      "Accuracy: 0.620000\n",
      "Precision: 0.598425\n",
      "Recall: 0.926829\n",
      "F score: 0.727273\n",
      "\n"
     ]
    }
   ],
   "source": [
    "for i in range(3):\n",
    "    fern = train_fern(X_train,I,4)\n",
    "    pred = fern_classifier([fern],X_test)\n",
    "    v = eval_ferns(pred,y_test)\n",
    "    metric(v)\n",
    "    print('')"
   ]
  },
  {
   "cell_type": "markdown",
   "id": "greatest-electricity",
   "metadata": {},
   "source": [
    "We see that a single fern does not perform well if we does not have intuition behind. Let's try multiple ferns"
   ]
  },
  {
   "cell_type": "code",
   "execution_count": 288,
   "id": "elementary-junior",
   "metadata": {},
   "outputs": [],
   "source": [
    "# Random ferns\n",
    "# Input: n (number of ferns), S (size of each fern)\n",
    "def random_ferns_classifier(n,S):\n",
    "    ferns = []\n",
    "    for i in range(n):\n",
    "        fern = train_fern(X_train,I,S)\n",
    "        ferns.append(fern)\n",
    "    return ferns"
   ]
  },
  {
   "cell_type": "code",
   "execution_count": 296,
   "id": "australian-negotiation",
   "metadata": {},
   "outputs": [
    {
     "name": "stdout",
     "output_type": "stream",
     "text": [
      "Accuracy: 0.760000\n",
      "Precision: 0.750000\n",
      "Recall: 0.841463\n",
      "F score: 0.793103\n",
      "\n",
      "Accuracy: 0.740000\n",
      "Precision: 0.747126\n",
      "Recall: 0.792683\n",
      "F score: 0.769231\n",
      "\n",
      "Accuracy: 0.753333\n",
      "Precision: 0.752809\n",
      "Recall: 0.817073\n",
      "F score: 0.783626\n",
      "\n",
      "Accuracy: 0.726667\n",
      "Precision: 0.753086\n",
      "Recall: 0.743902\n",
      "F score: 0.748466\n",
      "\n",
      "Accuracy: 0.766667\n",
      "Precision: 0.776471\n",
      "Recall: 0.804878\n",
      "F score: 0.790419\n",
      "\n"
     ]
    }
   ],
   "source": [
    "for i in range(5):\n",
    "    ferns = random_ferns_classifier(25,7)\n",
    "    pred = fern_classifier(ferns,X_test)\n",
    "    v = eval_ferns(pred,y_test)\n",
    "    metric(v)\n",
    "    print('')"
   ]
  },
  {
   "cell_type": "markdown",
   "id": "veterinary-zambia",
   "metadata": {},
   "source": [
    "We see a significant improvements. Let's try to plot error plots of single fern and multiple ferns respectively."
   ]
  },
  {
   "cell_type": "code",
   "execution_count": 311,
   "id": "frequent-northwest",
   "metadata": {},
   "outputs": [
    {
     "data": {
      "image/png": "[encoded data removed]",
      "text/plain": [
       "<Figure size 432x288 with 1 Axes>"
      ]
     },
     "metadata": {
      "needs_background": "light"
     },
     "output_type": "display_data"
    }
   ],
   "source": [
    "# Accuracy vs size of ferns, average of 20 ferns of each size\n",
    "# For n >= 18 it runs too slow\n",
    "n = 15\n",
    "X = np.arange(1,n+1,1)\n",
    "y = np.zeros(n)\n",
    "for i in range(1,n+1):\n",
    "    for j in range(20):\n",
    "        fern = train_fern(X_train,I,i)\n",
    "        pred = fern_classifier([fern],X_test)\n",
    "        v = eval_ferns(pred,y_test)\n",
    "        y[i-1] += (v[0]+v[1])/(sum(v)*20)\n",
    "    \n",
    "plt.plot(X,y,'b-')\n",
    "\n",
    "plt.xlabel('Size of fern')\n",
    "plt.ylabel('Accuracy')\n",
    "plt.title('Single fern')\n",
    "\n",
    "plt.show()"
   ]
  },
  {
   "cell_type": "code",
   "execution_count": 313,
   "id": "common-minnesota",
   "metadata": {},
   "outputs": [
    {
     "data": {
      "image/png": "[encoded data removed]",
      "text/plain": [
       "<Figure size 432x288 with 1 Axes>"
      ]
     },
     "metadata": {
      "needs_background": "light"
     },
     "output_type": "display_data"
    }
   ],
   "source": [
    "# Accuracy vs number of ferns, size=7, average of 20 ferns of each size\n",
    "n = 50\n",
    "X = np.arange(1,n+1,1)\n",
    "y = np.zeros(n)\n",
    "\n",
    "for i in range(1,n+1,1):\n",
    "    for j in range(20):\n",
    "        ferns = random_ferns_classifier(i,7)\n",
    "        pred = fern_classifier(ferns,X_test)\n",
    "        v = eval_ferns(pred,y_test)\n",
    "        y[i-1] += (v[0]+v[1])/(sum(v)*20)\n",
    "    \n",
    "plt.plot(X,y,'b-')\n",
    "\n",
    "plt.xlabel('Number of fern')\n",
    "plt.ylabel('Accuracy')\n",
    "plt.title('Random ferns, size=7')\n",
    "\n",
    "plt.show()"
   ]
  },
  {
   "cell_type": "code",
   "execution_count": null,
   "id": "knowing-gnome",
   "metadata": {},
   "outputs": [],
   "source": []
  }
 ],
 "metadata": {
  "kernelspec": {
   "display_name": "Python 3",
   "language": "python",
   "name": "python3"
  },
  "language_info": {
   "codemirror_mode": {
    "name": "ipython",
    "version": 3
   },
   "file_extension": ".py",
   "mimetype": "text/x-python",
   "name": "python",
   "nbconvert_exporter": "python",
   "pygments_lexer": "ipython3",
   "version": "3.7.0"
  }
 },
 "nbformat": 4,
 "nbformat_minor": 5
}
